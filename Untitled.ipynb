{
 "cells": [
  {
   "cell_type": "markdown",
   "id": "3c40a2ea",
   "metadata": {},
   "source": [
    "### selection of the Gene mouse"
   ]
  },
  {
   "cell_type": "markdown",
   "id": "081aefbe",
   "metadata": {},
   "source": [
    "### import of the data from ARCHS4"
   ]
  },
  {
   "cell_type": "code",
   "execution_count": 1,
   "id": "528c9fd9",
   "metadata": {},
   "outputs": [],
   "source": [
    "import numpy as np\n",
    "import h5py"
   ]
  },
  {
   "cell_type": "code",
   "execution_count": 2,
   "id": "0af3e78d",
   "metadata": {},
   "outputs": [],
   "source": [
    "hf = h5py.File('GPL6246_expression.h5', 'r')\n",
    "hf2=h5py.File('GPL1261_expression.h5', 'r')"
   ]
  },
  {
   "cell_type": "code",
   "execution_count": 3,
   "id": "8db6a51d",
   "metadata": {},
   "outputs": [
    {
     "data": {
      "text/plain": [
       "<KeysViewHDF5 ['data', 'meta']>"
      ]
     },
     "execution_count": 3,
     "metadata": {},
     "output_type": "execute_result"
    }
   ],
   "source": [
    "hf.keys()\n",
    "hf2.keys()"
   ]
  },
  {
   "cell_type": "code",
   "execution_count": 4,
   "id": "e89ac52e",
   "metadata": {},
   "outputs": [],
   "source": [
    "dset = hf['meta']\n",
    "dset2=hf2['meta']"
   ]
  },
  {
   "cell_type": "code",
   "execution_count": 5,
   "id": "a71f1fb7",
   "metadata": {},
   "outputs": [
    {
     "data": {
      "text/plain": [
       "<KeysViewHDF5 ['genes', 'samples']>"
      ]
     },
     "execution_count": 5,
     "metadata": {},
     "output_type": "execute_result"
    }
   ],
   "source": [
    "dset.keys()"
   ]
  },
  {
   "cell_type": "code",
   "execution_count": 6,
   "id": "8684e3df",
   "metadata": {},
   "outputs": [
    {
     "data": {
      "text/plain": [
       "<KeysViewHDF5 ['channel_count', 'characteristics_ch1', 'contact_address', 'contact_city', 'contact_country', 'contact_department', 'contact_email', 'contact_institute', 'contact_laboratory', 'contact_name', 'contact_state', 'contact_zip', 'data_processing', 'data_row_count', 'description', 'extract_protocol_ch1', 'geo_accession', 'hyb_protocol', 'label_ch1', 'label_protocol_ch1', 'last_update_date', 'molecule_ch1', 'organism_ch1', 'platform_id', 'scan_protocol', 'series_id', 'source_name_ch1', 'status', 'submission_date', 'supplementary_file', 'taxid_ch1', 'title', 'treatment_protocol_ch1', 'type']>"
      ]
     },
     "execution_count": 6,
     "metadata": {},
     "output_type": "execute_result"
    }
   ],
   "source": [
    "dset['samples'].keys()"
   ]
  },
  {
   "cell_type": "code",
   "execution_count": 7,
   "id": "dccf6ede",
   "metadata": {},
   "outputs": [
    {
     "data": {
      "text/plain": [
       "<KeysViewHDF5 ['channel_count', 'characteristics_ch1', 'contact_address', 'contact_city', 'contact_country', 'contact_department', 'contact_email', 'contact_institute', 'contact_laboratory', 'contact_name', 'contact_state', 'contact_zip', 'data_processing', 'data_row_count', 'description', 'extract_protocol_ch1', 'geo_accession', 'hyb_protocol', 'label_ch1', 'label_protocol_ch1', 'last_update_date', 'molecule_ch1', 'organism_ch1', 'platform_id', 'scan_protocol', 'series_id', 'source_name_ch1', 'status', 'submission_date', 'supplementary_file', 'taxid_ch1', 'title', 'treatment_protocol_ch1', 'type']>"
      ]
     },
     "execution_count": 7,
     "metadata": {},
     "output_type": "execute_result"
    }
   ],
   "source": [
    "dset2['samples'].keys()"
   ]
  },
  {
   "cell_type": "code",
   "execution_count": 8,
   "id": "abfe94ff",
   "metadata": {},
   "outputs": [],
   "source": [
    "dset_sample=dset['samples']\n",
    "dset_sample2=dset2['samples']"
   ]
  },
  {
   "cell_type": "code",
   "execution_count": 9,
   "id": "fa26b79a",
   "metadata": {},
   "outputs": [
    {
     "data": {
      "text/plain": [
       "<HDF5 dataset \"description\": shape (57069,), type \"|O\">"
      ]
     },
     "execution_count": 9,
     "metadata": {},
     "output_type": "execute_result"
    }
   ],
   "source": [
    "dset_sample2['description']"
   ]
  },
  {
   "cell_type": "markdown",
   "id": "886e69be",
   "metadata": {},
   "source": []
  },
  {
   "cell_type": "code",
   "execution_count": null,
   "id": "ebbcf201",
   "metadata": {},
   "outputs": [],
   "source": []
  },
  {
   "cell_type": "markdown",
   "id": "6f048442",
   "metadata": {},
   "source": [
    "### selection liver"
   ]
  },
  {
   "cell_type": "code",
   "execution_count": 13,
   "id": "ef915770",
   "metadata": {},
   "outputs": [
    {
     "name": "stdout",
     "output_type": "stream",
     "text": [
      "wild-type, F1 liver, pCD\n",
      "wild-type, F1 liver, pCD\n",
      "wild-type, F1 liver, pLPD\n",
      "wild-type, F1 liver, pLPD\n",
      "wild-type, F1 liver, pCD\n",
      "wild-type, F1 liver, pLPD\n",
      "wild-type, F1 liver, pLPD\n",
      "wild-type, F1 liver, pCD\n",
      "wild-type, F1 liver, pLPD\n",
      "wild-type, F1 liver, pCD\n",
      "wild-type, F1 liver, pLPD\n",
      "wild-type, F1 liver, pCD\n",
      "wild-type, F1 liver, pLPD\n",
      "wild-type, F1 liver, pCD\n",
      "wild-type, F1 liver, pCD\n",
      "wild-type, F1 liver, pLPD\n",
      "E14.5 fetal liver TER119+ wildtype\n",
      "E14.5 fetal liver TER119+ wildtype\n",
      "E14.5 fetal liver TER119+ wildtype\n",
      "E14.5 fetal liver TER119- wildtype\n",
      "E14.5 fetal liver TER119- wildtype\n",
      "E14.5 fetal liver TER119- wildtype\n",
      "E14.5 fetal liver TER119+ wildtype\n",
      "E14.5 fetal liver TER119- wildtype\n",
      "HSC from E16.5 wild type mouse fetal liver\n",
      "HSC from E16.5 wild type mouse fetal liver\n",
      "HSC from E16.5 wild type mouse fetal liver\n",
      "wildtype liver\n",
      "wildtype liver\n",
      "wildtype liver\n",
      "wildtype liver\n",
      "wildtype liver\n",
      "wildtype liver\n",
      "liver, wild type (NEMO floxed/floxed)\n",
      "liver, wild type (NEMO floxed/floxed)\n",
      "liver, wild type (NEMO floxed/floxed)\n",
      "E13.5 whole fetal liver wildtype\n",
      "E13.5 whole fetal liver wildtype\n",
      "E13.5 whole fetal liver wildtype\n",
      "E13.5 TER119+ fetal liver wildtype\n",
      "E13.5 TER119+ fetal liver wildtype\n",
      "E13.5 TER119+ fetal liver wildtype\n",
      "E13.5 TER119+ fetal liver wildtype\n",
      "liver, wild type mouse (C57/BL6)\n",
      "liver, wild type mouse (C57/BL6)\n",
      "liver, wild type mouse (C57/BL6)\n",
      "wild-type fetal liver-derived MKs\n",
      "wild-type fetal liver-derived MKs\n",
      "HFD-fed wild-type liver\n",
      "Chow-fed wild-type liver\n",
      "HFD-fed wild-type liver\n",
      "Chow-fed wild-type liver\n",
      "HFD-fed wild-type liver\n",
      "HFD-fed wild-type liver\n",
      "Chow-fed wild-type liver\n",
      "HFD-fed wild-type liver\n",
      "Chow-fed wild-type liver\n",
      "Chow-fed wild-type liver\n",
      "Chow-fed wild-type liver\n",
      "HFD-fed wild-type liver\n",
      "wild-type liver\n",
      "61\n"
     ]
    }
   ],
   "source": [
    "n=0\n",
    "for i in dset_sample['source_name_ch1']:\n",
    "    encoding = 'utf-8'\n",
    "    x=str(i, encoding)\n",
    "    if x.find(\"liver\") != -1:\n",
    "        if x.find(\"wild\")!= -1 and x.find(\"control\")== -1 and x.find(\"ctrl\")== -1 and x.find(\"WT\")== -1 and x.find(\"normal\")== -1:\n",
    "            print(x)\n",
    "            n=n+1\n",
    "print(n)"
   ]
  },
  {
   "cell_type": "code",
   "execution_count": 14,
   "id": "ce519e6a",
   "metadata": {},
   "outputs": [
    {
     "name": "stdout",
     "output_type": "stream",
     "text": [
      "wild-type, F1 liver, pCD\n",
      "wild-type, F1 liver, pCD\n",
      "wild-type, F1 liver, pLPD\n",
      "wild-type, F1 liver, pLPD\n",
      "wild-type, F1 liver, pCD\n",
      "wild-type, F1 liver, pLPD\n",
      "wild-type, F1 liver, pLPD\n",
      "wild-type, F1 liver, pCD\n",
      "wild-type, F1 liver, pLPD\n",
      "wild-type, F1 liver, pCD\n",
      "wild-type, F1 liver, pLPD\n",
      "wild-type, F1 liver, pCD\n",
      "wild-type, F1 liver, pLPD\n",
      "wild-type, F1 liver, pCD\n",
      "wild-type, F1 liver, pCD\n",
      "wild-type, F1 liver, pLPD\n",
      "E14.5 fetal liver TER119+ wildtype\n",
      "E14.5 fetal liver TER119+ wildtype\n",
      "E14.5 fetal liver TER119+ wildtype\n",
      "E14.5 fetal liver TER119- wildtype\n",
      "E14.5 fetal liver TER119- wildtype\n",
      "E14.5 fetal liver TER119- wildtype\n",
      "E14.5 fetal liver TER119+ wildtype\n",
      "E14.5 fetal liver TER119- wildtype\n",
      "HSC from E16.5 wild type mouse fetal liver\n",
      "HSC from E16.5 wild type mouse fetal liver\n",
      "HSC from E16.5 wild type mouse fetal liver\n",
      "wildtype liver\n",
      "wildtype liver\n",
      "wildtype liver\n",
      "wildtype liver\n",
      "wildtype liver\n",
      "wildtype liver\n",
      "liver, wild type (NEMO floxed/floxed)\n",
      "liver, wild type (NEMO floxed/floxed)\n",
      "liver, wild type (NEMO floxed/floxed)\n",
      "E13.5 whole fetal liver wildtype\n",
      "E13.5 whole fetal liver wildtype\n",
      "E13.5 whole fetal liver wildtype\n",
      "E13.5 TER119+ fetal liver wildtype\n",
      "E13.5 TER119+ fetal liver wildtype\n",
      "E13.5 TER119+ fetal liver wildtype\n",
      "E13.5 TER119+ fetal liver wildtype\n",
      "liver, wild type mouse (C57/BL6)\n",
      "liver, wild type mouse (C57/BL6)\n",
      "liver, wild type mouse (C57/BL6)\n",
      "wild-type fetal liver-derived MKs\n",
      "wild-type fetal liver-derived MKs\n",
      "HFD-fed wild-type liver\n",
      "Chow-fed wild-type liver\n",
      "HFD-fed wild-type liver\n",
      "Chow-fed wild-type liver\n",
      "HFD-fed wild-type liver\n",
      "HFD-fed wild-type liver\n",
      "Chow-fed wild-type liver\n",
      "HFD-fed wild-type liver\n",
      "Chow-fed wild-type liver\n",
      "Chow-fed wild-type liver\n",
      "Chow-fed wild-type liver\n",
      "HFD-fed wild-type liver\n",
      "wild-type liver\n",
      "61\n"
     ]
    }
   ],
   "source": [
    "n=0\n",
    "for i in dset_sample['source_name_ch1']:\n",
    "    encoding = 'utf-8'\n",
    "    x=str(i, encoding)\n",
    "    if x.find(\"liver\") != -1:\n",
    "        if x.find(\"wild\")!= -1 and x.find(\"control\")== -1 and x.find(\"ctrl\")== -1 and x.find(\"WT\")== -1 and x.find(\"normal\")== -1:\n",
    "            print(x)\n",
    "            n=n+1\n",
    "print(n)"
   ]
  },
  {
   "cell_type": "code",
   "execution_count": null,
   "id": "5db7fa3d",
   "metadata": {},
   "outputs": [],
   "source": [
    "n=0\n",
    "for i in dset_sample['source_name_ch1']:\n",
    "    encoding = 'utf-8'\n",
    "    x=str(i, encoding)\n",
    "    if x.find(\"liver\") != -1:\n",
    "        if x.find(\"wild\")!= -1 and x.find(\"control\")== -1 and x.find(\"ctrl\")== -1 and x.find(\"WT\")== -1 and x.find(\"normal\")== -1:\n",
    "            print(x)\n",
    "            n=n+1\n",
    "print(n)"
   ]
  },
  {
   "cell_type": "code",
   "execution_count": 46,
   "id": "350a8c4b",
   "metadata": {},
   "outputs": [
    {
     "name": "stdout",
     "output_type": "stream",
     "text": [
      "Found 'is' in the string.\n"
     ]
    }
   ],
   "source": [
    "txt = \"Intact murine skin.\"\n",
    "\n",
    "x = txt.find(\"naive\")\n",
    "\n",
    "if txt.find(\"skin\") == -1:\n",
    "    print(\"No 'is' here!\")\n",
    "else:\n",
    "    print(\"Found 'is' in the string.\")\n",
    "\n"
   ]
  }
 ],
 "metadata": {
  "kernelspec": {
   "display_name": "Python 3 (ipykernel)",
   "language": "python",
   "name": "python3"
  },
  "language_info": {
   "codemirror_mode": {
    "name": "ipython",
    "version": 3
   },
   "file_extension": ".py",
   "mimetype": "text/x-python",
   "name": "python",
   "nbconvert_exporter": "python",
   "pygments_lexer": "ipython3",
   "version": "3.9.7"
  }
 },
 "nbformat": 4,
 "nbformat_minor": 5
}
